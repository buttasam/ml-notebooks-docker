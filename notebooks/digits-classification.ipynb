{
 "cells": [
  {
   "cell_type": "code",
   "execution_count": null,
   "id": "a976522c-a0f6-49c8-9b79-3cdc102548b6",
   "metadata": {},
   "outputs": [],
   "source": [
    "# Imports\n",
    "import numpy as np\n",
    "import tensorflow as tf\n",
    "import matplotlib.pyplot as plt\n",
    "from keras.layers import Dense, Flatten\n",
    "from keras.models import Sequential\n",
    "from keras.utils import to_categorical\n",
    "from keras.datasets import mnist\n",
    "\n",
    "# Some utils methods\n",
    "\n",
    "# Display some images\n",
    "def show_data(digits, labels, count = 10):\n",
    "    fig, axes = plt.subplots(ncols=count, figsize=(10, 4))\n",
    "    labels = np.argmax(labels, axis=1)\n",
    "    for i in range(count):\n",
    "        axes[i].set_title(labels[i])\n",
    "        axes[i].imshow(digits[i], cmap='binary')\n",
    "        axes[i].get_xaxis().set_visible(False)\n",
    "        axes[i].get_yaxis().set_visible(False)\n",
    "    plt.show()\n",
    "    \n",
    "# Convert to categorical\n",
    "def normalize_labels(labels):\n",
    "    temp = []\n",
    "    for i in range(len(labels)):\n",
    "        temp.append(to_categorical(labels[i], num_classes=10))\n",
    "    return np.array(temp)\n"
   ]
  },
  {
   "cell_type": "code",
   "execution_count": null,
   "id": "da7606e8-9951-422a-9728-086652702e12",
   "metadata": {},
   "outputs": [],
   "source": [
    "# Load data, split into train and test\n",
    "(digits_train, labels_train), (digits_test, labels_test)= mnist.load_data()\n",
    "labels_train = normalize_labels(labels_train)\n",
    "labels_test = normalize_labels(labels_test)\n",
    "\n",
    "# Show some train data\n",
    "show_data(digits_train, labels_train)"
   ]
  },
  {
   "cell_type": "code",
   "execution_count": null,
   "id": "89edbbc9-03ff-4630-858d-fb141fa5c743",
   "metadata": {},
   "outputs": [],
   "source": [
    "# Create neural network model\n",
    "model = Sequential()\n",
    "model.add(Flatten(input_shape=(28,28)))\n",
    "model.add(Dense(128, activation='relu'))\n",
    "model.add(Dense(10, activation='softmax'))\n",
    "\n",
    "model.compile(loss='categorical_crossentropy', \n",
    "\t      optimizer=tf.keras.optimizers.Adam(learning_rate=0.001),\n",
    "\t      metrics=['acc'])\n",
    "\n",
    "model.summary()"
   ]
  },
  {
   "cell_type": "code",
   "execution_count": null,
   "id": "e86f0fe2-d784-40f6-b80c-35c12ec545df",
   "metadata": {},
   "outputs": [],
   "source": [
    "# train model\n",
    "model.fit(digits_train, labels_train, batch_size=32, epochs=10, validation_data=(digits_test, labels_test))"
   ]
  },
  {
   "cell_type": "code",
   "execution_count": null,
   "id": "e2aaf9e8-5f6d-41fd-ad2d-c43068350672",
   "metadata": {},
   "outputs": [],
   "source": [
    "# evaluate model\n",
    "model.evaluate(digits_test, labels_test, verbose = 1) "
   ]
  },
  {
   "cell_type": "code",
   "execution_count": null,
   "id": "01d35de0-8050-4383-ada0-538754ced146",
   "metadata": {},
   "outputs": [],
   "source": [
    "predictions = model.predict(digits_test)\n",
    "\n",
    "show_data(digits_test, predictions)"
   ]
  }
 ],
 "metadata": {
  "kernelspec": {
   "display_name": "Python 3 (ipykernel)",
   "language": "python",
   "name": "python3"
  },
  "language_info": {
   "codemirror_mode": {
    "name": "ipython",
    "version": 3
   },
   "file_extension": ".py",
   "mimetype": "text/x-python",
   "name": "python",
   "nbconvert_exporter": "python",
   "pygments_lexer": "ipython3",
   "version": "3.10.6"
  }
 },
 "nbformat": 4,
 "nbformat_minor": 5
}
